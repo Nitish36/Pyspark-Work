{
 "cells": [
  {
   "cell_type": "code",
   "execution_count": 46,
   "id": "5986e849",
   "metadata": {},
   "outputs": [
    {
     "data": {
      "text/html": [
       "\n",
       "        <div>\n",
       "            <p><b>SparkContext</b></p>\n",
       "\n",
       "            <p><a href=\"http://192.168.1.19:4040\">Spark UI</a></p>\n",
       "\n",
       "            <dl>\n",
       "              <dt>Version</dt>\n",
       "                <dd><code>v3.4.0</code></dd>\n",
       "              <dt>Master</dt>\n",
       "                <dd><code>local[4]</code></dd>\n",
       "              <dt>AppName</dt>\n",
       "                <dd><code>SparkPractice</code></dd>\n",
       "            </dl>\n",
       "        </div>\n",
       "        "
      ],
      "text/plain": [
       "<SparkContext master=local[4] appName=SparkPractice>"
      ]
     },
     "execution_count": 46,
     "metadata": {},
     "output_type": "execute_result"
    }
   ],
   "source": [
    "import findspark\n",
    "findspark.init()\n",
    "findspark.find()\n",
    "from pyspark.sql import *\n",
    "from pyspark.sql.types import *\n",
    "from pyspark.sql.functions import *\n",
    "\n",
    "spark = (\n",
    "            SparkSession.builder\n",
    "                .appName(\"SparkPractice\")\n",
    "                .master(\"local[4]\")\n",
    "                .config(\"spark.dynamicAllocation.enabled\",\"false\")\n",
    "                .config(\"spark.sql.adaptive.enabled\",\"false\") \n",
    "                .getOrCreate()\n",
    ")\n",
    "sc = spark.sparkContext\n",
    "sc"
   ]
  },
  {
   "cell_type": "code",
   "execution_count": 47,
   "id": "df7040ee",
   "metadata": {},
   "outputs": [
    {
     "name": "stdout",
     "output_type": "stream",
     "text": [
      "+--------------------+--------------------+----------------+---------------+-----------+-------+------+---+----------------+-----------------+-----------------------+------------------------------+\n",
      "|           Registrar|     EnrolmentAgency|           State|       District|SubDistrict|PinCode|Gender|Age|Aadhaargenerated|EnrolmentRejected|Residentsprovidingemail|Residentsprovidingmobilenumber|\n",
      "+--------------------+--------------------+----------------+---------------+-----------+-------+------+---+----------------+-----------------+-----------------------+------------------------------+\n",
      "| Chief Registrar ...|District Registra...|Himachal Pradesh|Lahul and Spiti|  Lahul (t)| 175132|     M|  0|               1|                0|                      0|                             1|\n",
      "| Chief Registrar ...|District Registra...|Himachal Pradesh|       Hamirpur|Dhatwal(st)| 176040|     M|  0|               1|                0|                      0|                             0|\n",
      "| Chief Registrar ...|District Registra...|Himachal Pradesh|          Mandi|Bali Chowki| 174402|     F|  0|               1|                0|                      1|                             1|\n",
      "| Chief Registrar ...|District Registra...|Himachal Pradesh|          Mandi|Bali Chowki| 175001|     F|  0|               1|                0|                      0|                             0|\n",
      "| Chief Registrar ...|District Registra...|Himachal Pradesh|          Mandi|Bali Chowki| 175001|     M|  0|               1|                0|                      0|                             0|\n",
      "+--------------------+--------------------+----------------+---------------+-----------+-------+------+---+----------------+-----------------+-----------------------+------------------------------+\n",
      "only showing top 5 rows\n",
      "\n"
     ]
    }
   ],
   "source": [
    "df = spark.read.csv(\"aadhaar_data.csv\",header = True)\n",
    "df.show(5)"
   ]
  },
  {
   "cell_type": "code",
   "execution_count": 48,
   "id": "87115a7c",
   "metadata": {},
   "outputs": [
    {
     "name": "stdout",
     "output_type": "stream",
     "text": [
      "Male Count in each state is :\n",
      "\n",
      "\n",
      "\n",
      "+--------------------+---------+\n",
      "|               State|MaleCount|\n",
      "+--------------------+---------+\n",
      "|            Nagaland|      226|\n",
      "|           Karnataka|     2764|\n",
      "|              Odisha|     3456|\n",
      "|              Kerala|     2020|\n",
      "|          Tamil Nadu|     3066|\n",
      "|        Chhattisgarh|      786|\n",
      "|      Andhra Pradesh|      945|\n",
      "|         Lakshadweep|        6|\n",
      "|      Madhya Pradesh|     3203|\n",
      "|              Punjab|     1750|\n",
      "|             Manipur|      519|\n",
      "|                 Goa|       88|\n",
      "|             Mizoram|      246|\n",
      "|Dadra and Nagar H...|       13|\n",
      "|    Himachal Pradesh|      330|\n",
      "|          Puducherry|       41|\n",
      "|   Jammu and Kashmir|     1484|\n",
      "|             Haryana|      974|\n",
      "|           Jharkhand|     1092|\n",
      "|   Arunachal Pradesh|      364|\n",
      "+--------------------+---------+\n",
      "only showing top 20 rows\n",
      "\n",
      "\n",
      "\n",
      "\n",
      "Female Count in each state is :\n",
      "\n",
      "\n",
      "\n",
      "+--------------------+---------+\n",
      "|               State|MaleCount|\n",
      "+--------------------+---------+\n",
      "|            Nagaland|      186|\n",
      "|           Karnataka|     2150|\n",
      "|              Odisha|     3422|\n",
      "|              Kerala|     1203|\n",
      "|          Tamil Nadu|     2461|\n",
      "|        Chhattisgarh|      877|\n",
      "|      Andhra Pradesh|      795|\n",
      "|         Lakshadweep|        1|\n",
      "|      Madhya Pradesh|     3542|\n",
      "|              Punjab|     1349|\n",
      "|             Manipur|      533|\n",
      "|                 Goa|       66|\n",
      "|             Mizoram|      227|\n",
      "|Dadra and Nagar H...|       14|\n",
      "|    Himachal Pradesh|      285|\n",
      "|          Puducherry|       26|\n",
      "|   Jammu and Kashmir|     1710|\n",
      "|             Haryana|      890|\n",
      "|           Jharkhand|     1029|\n",
      "|   Arunachal Pradesh|      350|\n",
      "+--------------------+---------+\n",
      "only showing top 20 rows\n",
      "\n"
     ]
    }
   ],
   "source": [
    "#Count the Male Residents and Female Resident in each state who have enrolled in Aadhaar\n",
    "\n",
    "#Method\n",
    "#1) Filter by Gender i.e Male or Female\n",
    "#2) Filter the Male values \n",
    "#3) Group By state\n",
    "#4) And Count the gender and rename as male count\n",
    "\n",
    "print(\"Male Count in each state is :\")\n",
    "print(\"\\n\\n\")\n",
    "df1 = df.select(df.State,df.Gender,when(df.Gender == 'M',df.Gender).alias('MaleCount'))\n",
    "df1.filter(df1.MaleCount == 'M').groupBy('State').agg(count('Gender').alias('MaleCount')).show()\n",
    "\n",
    "print(\"\\n\\n\")\n",
    "print(\"Female Count in each state is :\")\n",
    "print(\"\\n\\n\")\n",
    "df1 = df.select(df.State,df.Gender,when(df.Gender == 'F',df.Gender).alias('MaleCount'))\n",
    "df1.filter(df1.MaleCount == 'F').groupBy('State').agg(count('Gender').alias('MaleCount')).show()"
   ]
  },
  {
   "cell_type": "code",
   "execution_count": 59,
   "id": "7a09b57b",
   "metadata": {},
   "outputs": [
    {
     "name": "stdout",
     "output_type": "stream",
     "text": [
      "Count of rejected residents in each state is\n",
      "\n",
      "\n",
      "\n",
      "+--------------------+--------+\n",
      "|               State|Rejected|\n",
      "+--------------------+--------+\n",
      "|            Nagaland|      64|\n",
      "|           Karnataka|     746|\n",
      "|              Odisha|    1938|\n",
      "|              Kerala|     355|\n",
      "|          Tamil Nadu|     894|\n",
      "|        Chhattisgarh|     339|\n",
      "|      Andhra Pradesh|     314|\n",
      "|      Madhya Pradesh|    1358|\n",
      "|              Punjab|     878|\n",
      "|             Manipur|     154|\n",
      "|                 Goa|      27|\n",
      "|             Mizoram|     126|\n",
      "|Dadra and Nagar H...|      14|\n",
      "|    Himachal Pradesh|     108|\n",
      "|          Puducherry|      10|\n",
      "|             Haryana|     362|\n",
      "|   Jammu and Kashmir|     924|\n",
      "|           Jharkhand|     482|\n",
      "|   Arunachal Pradesh|     112|\n",
      "|             Gujarat|    1478|\n",
      "+--------------------+--------+\n",
      "only showing top 20 rows\n",
      "\n"
     ]
    }
   ],
   "source": [
    "#2 Count the rejected residents in each state\n",
    "#Method\n",
    "#1) Filter by enrolment rejected\n",
    "#2) Remove the null values\n",
    "#3) Group BY state\n",
    "#4) Perform count on it\n",
    "print(\"Count of rejected residents in each state is\")\n",
    "print('\\n\\n')\n",
    "df1 = df.select(df.State,df.EnrolmentRejected,when(df.EnrolmentRejected == 1,df.EnrolmentRejected)\n",
    "                .alias('Rejected'))\n",
    "\n",
    "df1.filter(df1.Rejected == 1).groupBy('State').agg(count('Rejected').alias(\"Rejected\")).show()"
   ]
  },
  {
   "cell_type": "code",
   "execution_count": 62,
   "id": "3523ed7d",
   "metadata": {},
   "outputs": [
    {
     "name": "stdout",
     "output_type": "stream",
     "text": [
      "Count of rejected residents in each state is\n",
      "\n",
      "\n",
      "\n",
      "+--------------------+--------+\n",
      "|               State|Rejected|\n",
      "+--------------------+--------+\n",
      "|            Nagaland|      64|\n",
      "|           Karnataka|     746|\n",
      "|              Odisha|    1938|\n",
      "|              Kerala|     355|\n",
      "|          Tamil Nadu|     894|\n",
      "|        Chhattisgarh|     339|\n",
      "|      Andhra Pradesh|     314|\n",
      "|      Madhya Pradesh|    1358|\n",
      "|              Punjab|     878|\n",
      "|             Manipur|     154|\n",
      "|                 Goa|      27|\n",
      "|             Mizoram|     126|\n",
      "|Dadra and Nagar H...|      14|\n",
      "|    Himachal Pradesh|     108|\n",
      "|          Puducherry|      10|\n",
      "|             Haryana|     362|\n",
      "|   Jammu and Kashmir|     924|\n",
      "|           Jharkhand|     482|\n",
      "|   Arunachal Pradesh|     112|\n",
      "|             Gujarat|    1478|\n",
      "+--------------------+--------+\n",
      "only showing top 20 rows\n",
      "\n",
      "The average of rejected members across India is \n",
      "\n",
      "\n",
      "\n",
      "+-----------+\n",
      "|AvgRejected|\n",
      "+-----------+\n",
      "|        1.0|\n",
      "+-----------+\n",
      "\n"
     ]
    }
   ],
   "source": [
    "#3 Count the rejected residents in each state and then calculate the average of the rejected\n",
    "#residents in India (You have to write two MR jobs that takes output of first job as input to\n",
    "#the second job)\n",
    "\n",
    "print(\"Count of rejected residents in each state is\")\n",
    "print('\\n\\n')\n",
    "df1 = df.select(df.State,df.EnrolmentRejected,when(df.EnrolmentRejected == 1,df.EnrolmentRejected)\n",
    "                .alias('Rejected'))\n",
    "\n",
    "df1.filter(df1.Rejected == 1).groupBy('State').agg(count('Rejected').alias(\"Rejected\")).show()\n",
    "\n",
    "print(\"The average of rejected members across India is \")\n",
    "print(\"\\n\\n\")\n",
    "df2 = df1.agg(mean('Rejected').alias(\"AvgRejected\")).show()"
   ]
  },
  {
   "cell_type": "code",
   "execution_count": null,
   "id": "a3c7a5a4",
   "metadata": {},
   "outputs": [],
   "source": []
  },
  {
   "cell_type": "code",
   "execution_count": null,
   "id": "45329a4f",
   "metadata": {},
   "outputs": [],
   "source": []
  },
  {
   "cell_type": "code",
   "execution_count": null,
   "id": "29c720e0",
   "metadata": {},
   "outputs": [],
   "source": []
  }
 ],
 "metadata": {
  "kernelspec": {
   "display_name": "Python 3 (ipykernel)",
   "language": "python",
   "name": "python3"
  },
  "language_info": {
   "codemirror_mode": {
    "name": "ipython",
    "version": 3
   },
   "file_extension": ".py",
   "mimetype": "text/x-python",
   "name": "python",
   "nbconvert_exporter": "python",
   "pygments_lexer": "ipython3",
   "version": "3.10.11"
  }
 },
 "nbformat": 4,
 "nbformat_minor": 5
}
